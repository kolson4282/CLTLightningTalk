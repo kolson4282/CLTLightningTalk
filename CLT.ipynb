{
 "cells": [
  {
   "cell_type": "code",
   "execution_count": 19,
   "metadata": {},
   "outputs": [],
   "source": [
    "import numpy as np\n",
    "import matplotlib.pyplot as plt"
   ]
  },
  {
   "attachments": {},
   "cell_type": "markdown",
   "metadata": {},
   "source": [
    "# Central Limit Theorem\n",
    "\n",
    "Galton Board\n",
    "<iframe src='https://gfycat.com/ifr/QuaintTidyCockatiel' frameborder='0' scrolling='no' allowfullscreen width='640' height='404'></iframe>\n",
    "\n",
    "\n",
    "Start with a random variable: X \n",
    "(Such as roling a die)\n",
    "\n",
    "Add N samples of this variable (rolling N dice and summing the result)\n",
    "\n",
    "The distribution of this sum looks more like a Bell Curve as N -> infinity and approaches a Normal Distribution.\n"
   ]
  },
  {
   "attachments": {},
   "cell_type": "markdown",
   "metadata": {},
   "source": [
    "3blue1brown: https://www.youtube.com/watch?v=zeJD6dqJ5lo\n"
   ]
  },
  {
   "cell_type": "code",
   "execution_count": null,
   "metadata": {},
   "outputs": [],
   "source": [
    "choices = np.array([1,2,3,4,5,6])\n",
    "probs = np.array([1/6,1/6,1/6,1/6,1/6,1/6])\n",
    "# probs = np.array([.4,.2,.05,.05,.1,.2])\n",
    "true_mean =np.mean(choices * probs * 6)\n",
    "\n",
    "def roll_die():\n",
    "    return np.random.choice(choices, p=probs)\n",
    "\n",
    "\n",
    "print(true_mean)"
   ]
  },
  {
   "cell_type": "code",
   "execution_count": null,
   "metadata": {},
   "outputs": [],
   "source": [
    "def roll_dice_sample(sample_size):\n",
    "    rolls = np.zeros(sample_size)\n",
    "    for i in range(sample_size):\n",
    "        rolls[i]=roll_die()\n",
    "    return rolls\n",
    "\n"
   ]
  },
  {
   "cell_type": "code",
   "execution_count": null,
   "metadata": {},
   "outputs": [],
   "source": [
    "roll_dice_sample(100)"
   ]
  },
  {
   "attachments": {},
   "cell_type": "markdown",
   "metadata": {},
   "source": [
    "## We will run 100 of these samples, and record their means."
   ]
  },
  {
   "cell_type": "code",
   "execution_count": null,
   "metadata": {},
   "outputs": [],
   "source": [
    "sample_size = 100\n",
    "number_of_samples = 100\n",
    "\n",
    "sample_means = np.zeros(number_of_samples)\n",
    "for i in range(number_of_samples):\n",
    "    sample_means[i] = np.mean(roll_dice_sample(sample_size))\n",
    "\n",
    "sample_means"
   ]
  },
  {
   "attachments": {},
   "cell_type": "markdown",
   "metadata": {},
   "source": [
    "## Plot of the means\n"
   ]
  },
  {
   "cell_type": "code",
   "execution_count": null,
   "metadata": {},
   "outputs": [],
   "source": [
    "plt.plot(sample_means, 'ko', label=\"Sample Means\")\n",
    "plt.plot([0,number_of_samples], [true_mean, true_mean], 'r', linewidth=5, label=\"true mean\")\n",
    "plt.legend()\n",
    "plt.show()"
   ]
  },
  {
   "attachments": {},
   "cell_type": "markdown",
   "metadata": {},
   "source": [
    "## PLot of the distributions of the means"
   ]
  },
  {
   "cell_type": "code",
   "execution_count": null,
   "metadata": {},
   "outputs": [],
   "source": [
    "plt.hist(sample_means, bins='fd')\n",
    "plt.xlabel(\"Sample mean\")\n",
    "plt.ylabel(\"Count\")\n",
    "plt.show()"
   ]
  },
  {
   "attachments": {},
   "cell_type": "markdown",
   "metadata": {},
   "source": [
    "## Plot of multiple histograms of 100 of these samples\n"
   ]
  },
  {
   "cell_type": "code",
   "execution_count": null,
   "metadata": {},
   "outputs": [],
   "source": [
    "number_of_meta_samples = 100\n",
    "cumaves = np.zeros((number_of_meta_samples, number_of_samples))\n",
    "\n",
    "allsamplemeans = np.zeros((number_of_meta_samples, number_of_samples))\n",
    "\n",
    "for metai in range(number_of_meta_samples):\n",
    "\n",
    "    for i in range(number_of_samples):\n",
    "        sample_means[i] = np.mean(roll_dice_sample(sample_size))\n",
    "    \n",
    "    tmp = np.cumsum(sample_means) / np.arange(1, number_of_samples + 1)\n",
    "    cumaves[metai, :] = (tmp - true_mean) ** 2\n",
    "    allsamplemeans[metai, :] = sample_means\n",
    "\n",
    "for i in range(number_of_meta_samples):\n",
    "    y,x = np.histogram(allsamplemeans[i])\n",
    "    x = (x[1:] + x[:-1]/2)\n",
    "    plt.plot(x,y, color=[.28, .28, .28])\n",
    "\n",
    "plt.show()"
   ]
  },
  {
   "attachments": {},
   "cell_type": "markdown",
   "metadata": {},
   "source": [
    "# SO WHAT?\n",
    "\n",
    "## The Law of Large Numbers\n",
    "\n",
    ">The average of the results obtained from a large number of trials should be close to the expected value and tends to become closer to the expected value as more trials are performed.\n",
    ">>https://en.wikipedia.org/wiki/Law_of_large_numbers"
   ]
  },
  {
   "cell_type": "code",
   "execution_count": null,
   "metadata": {},
   "outputs": [],
   "source": [
    "# Simulation Parameters\n",
    "\n",
    "population_size = 2.3e5 ##230 000\n",
    "\n",
    "sample_size = 50\n",
    "number_of_samples = 500"
   ]
  },
  {
   "cell_type": "code",
   "execution_count": null,
   "metadata": {},
   "outputs": [],
   "source": [
    "#generate the pop of numbers\n",
    "f = np.logspace(np.log10(.001),np.log10(10),int(population_size))\n",
    "population = 1/f\n",
    "\n",
    "true_mean = np.mean(population)\n",
    "\n",
    "skip=int(1e3)\n",
    "\n",
    "plt.plot(population[::skip], 'o')\n",
    "plt.xlabel(\"sample\")\n",
    "plt.ylabel(\"Data value\")\n",
    "plt.show()"
   ]
  },
  {
   "cell_type": "code",
   "execution_count": null,
   "metadata": {},
   "outputs": [],
   "source": [
    "#shuffle the data\n",
    "np.random.shuffle(population)\n",
    "plt.plot(population[::skip], 'o')\n",
    "plt.xlabel(\"sample\")\n",
    "plt.ylabel(\"Data value\")\n",
    "plt.show()"
   ]
  },
  {
   "cell_type": "code",
   "execution_count": null,
   "metadata": {},
   "outputs": [],
   "source": [
    "samplemeans = np.zeros(number_of_samples)\n",
    "\n",
    "for i in range(number_of_samples):\n",
    "    randsample = np.random.choice(population, size=sample_size)\n",
    "    samplemeans[i] = np.mean(randsample)\n",
    "\n",
    "plt.plot(samplemeans, \"ko\", label = \"Sample means\")\n",
    "plt.plot([0, number_of_samples], [true_mean, true_mean], 'r', linewidth=5, label=\"True Mean\")\n",
    "plt.legend()\n",
    "plt.show()\n"
   ]
  },
  {
   "cell_type": "code",
   "execution_count": null,
   "metadata": {},
   "outputs": [],
   "source": [
    "cumulative_averages = np.zeros(number_of_samples)\n",
    "\n",
    "for i in range(number_of_samples):\n",
    "    cumulative_averages[i] = np.mean(samplemeans[:i+1])\n",
    "\n",
    "cumave2 = np.cumsum(samplemeans) / np.arange(1, number_of_samples + 1)\n",
    "\n",
    "# plt.plot(samplemeans, \"ko\", label = \"Sample means\")\n",
    "plt.plot([0, number_of_samples], [true_mean, true_mean], 'r', linewidth=5, label=\"True Mean\")\n",
    "plt.plot(cumulative_averages, '+', label=\"Cumulative Average\")\n",
    "plt.plot(cumave2, '-', label='Cumulative Average Alt.')\n",
    "plt.legend()\n",
    "plt.show()"
   ]
  },
  {
   "cell_type": "code",
   "execution_count": null,
   "metadata": {},
   "outputs": [],
   "source": [
    "number_of_meta_samples = 100\n",
    "cumaves = np.zeros((number_of_meta_samples, number_of_samples))\n",
    "\n",
    "allsamplemeans = np.zeros((number_of_meta_samples, number_of_samples))\n",
    "\n",
    "for metai in range(number_of_meta_samples):\n",
    "\n",
    "    for i in range(number_of_samples):\n",
    "        randsample = np.random.choice(population, size=sample_size)\n",
    "        samplemeans[i] = np.mean(randsample)\n",
    "    \n",
    "    tmp = np.cumsum(samplemeans) / np.arange(1, number_of_samples + 1)\n",
    "    cumaves[metai, :] = (tmp - true_mean) ** 2\n",
    "    allsamplemeans[metai, :] = samplemeans\n",
    "\n",
    "plt.plot(cumaves.T)\n",
    "plt.ylim([-10, 500])\n",
    "plt.show()"
   ]
  },
  {
   "cell_type": "code",
   "execution_count": null,
   "metadata": {},
   "outputs": [],
   "source": [
    "plt.hist(samplemeans, bins='fd')\n",
    "plt.xlabel(\"Sample mean\")\n",
    "plt.ylabel(\"Count\")\n",
    "plt.show()\n"
   ]
  },
  {
   "cell_type": "code",
   "execution_count": null,
   "metadata": {},
   "outputs": [],
   "source": [
    "\n",
    "\n",
    "for i in range(number_of_meta_samples):\n",
    "    y,x = np.histogram(allsamplemeans[i])\n",
    "    x = (x[1:] + x[:-1]/2)\n",
    "    plt.plot(x,y, color=[.28, .28, .28])\n",
    "\n",
    "plt.show()"
   ]
  },
  {
   "attachments": {},
   "cell_type": "markdown",
   "metadata": {},
   "source": [
    "In the end we only had to sample (50 * 500) 25,000 people to get a good approximation of the true mean of the full 230,000. "
   ]
  },
  {
   "cell_type": "markdown",
   "metadata": {},
   "source": []
  }
 ],
 "metadata": {
  "kernelspec": {
   "display_name": "Python 3",
   "language": "python",
   "name": "python3"
  },
  "language_info": {
   "codemirror_mode": {
    "name": "ipython",
    "version": 3
   },
   "file_extension": ".py",
   "mimetype": "text/x-python",
   "name": "python",
   "nbconvert_exporter": "python",
   "pygments_lexer": "ipython3",
   "version": "3.9.6"
  },
  "orig_nbformat": 4
 },
 "nbformat": 4,
 "nbformat_minor": 2
}
